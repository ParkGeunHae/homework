{
  "nbformat": 4,
  "nbformat_minor": 0,
  "metadata": {
    "colab": {
      "provenance": [],
      "authorship_tag": "ABX9TyOXJpRlgKSn7Hm/shFiy6/G",
      "include_colab_link": true
    },
    "kernelspec": {
      "name": "python3",
      "display_name": "Python 3"
    },
    "language_info": {
      "name": "python"
    }
  },
  "cells": [
    {
      "cell_type": "markdown",
      "metadata": {
        "id": "view-in-github",
        "colab_type": "text"
      },
      "source": [
        "<a href=\"https://colab.research.google.com/github/ParkGeunHae/homework/blob/main/homework.ipynb\" target=\"_parent\"><img src=\"https://colab.research.google.com/assets/colab-badge.svg\" alt=\"Open In Colab\"/></a>"
      ]
    },
    {
      "cell_type": "markdown",
      "source": [
        "### 반복문을 이용하여 퀴즈를 맞히는 프로그램 정답은 키보드로 입력합니다"
      ],
      "metadata": {
        "id": "L3x2nJ6Kv9Em"
      }
    },
    {
      "cell_type": "code",
      "execution_count": 1,
      "metadata": {
        "colab": {
          "base_uri": "https://localhost:8080/"
        },
        "id": "_4TA9rqOv1ka",
        "outputId": "95cb91d9-b4f4-447a-c612-7036a01d21a8"
      },
      "outputs": [
        {
          "output_type": "stream",
          "name": "stdout",
          "text": [
            "프로그램을 작성할 때 일정한 구간의 명령을 반복해서 실행하도록 구성한 구성한 구문을 무었이라 하는가?\n",
            "정답을 입력하세요:반복문\n",
            "끝!\n"
          ]
        }
      ],
      "source": [
        "while True:\n",
        "    print('프로그램을 작성할 때 일정한 구간의 명령을 반복해서 실행하도록 구성한 구성한 구문을 무었이라 하는가?')\n",
        "\n",
        "    answer=input('정답을 입력하세요:')\n",
        "\n",
        "    if(answer=='반복문'):\n",
        "        break\n",
        "\n",
        "print('끝!')\n"
      ]
    },
    {
      "cell_type": "markdown",
      "source": [
        "### 1000만원을 년 이자율 7%로 저금했을 경우 2000만원이 되는 데 몇 년이 걸리는지 계산하는 프로그램을 만들어 보세요"
      ],
      "metadata": {
        "id": "13GVm2s9wMdD"
      }
    },
    {
      "cell_type": "code",
      "source": [
        "target=0\n",
        "year=1\n",
        "\n",
        "while target<=20000000:\n",
        "\n",
        "    target=10000000+10000000*0.07*year\n",
        "    year+=1\n",
        "\n",
        "\n",
        "print(f'1000만원이 2000만원이 되기 위해 {year-1}년이 걸립니다.')"
      ],
      "metadata": {
        "colab": {
          "base_uri": "https://localhost:8080/"
        },
        "id": "jA6ni_k6wTAY",
        "outputId": "ddc25237-c866-4bfa-cfa4-d56aa72b49e7"
      },
      "execution_count": 5,
      "outputs": [
        {
          "output_type": "stream",
          "name": "stdout",
          "text": [
            "1000만원이 2000만원이 되기 위해 15년이 걸립니다.\n"
          ]
        }
      ]
    },
    {
      "cell_type": "markdown",
      "source": [
        "### Turtle 이용해서 정오각형을 그리기 -> while & for 반복문으로 변환하기"
      ],
      "metadata": {
        "id": "l5Ipwkrsz_jP"
      }
    },
    {
      "cell_type": "code",
      "source": [
        "import turtle\n",
        "t=turtle.Turtle()\n",
        "t.shape('turtle')\n",
        "\n",
        "# while 반복문\n",
        "\n",
        "i=0\n",
        "while(i<5):\n",
        "\n",
        "    t.forward(100)\n",
        "    t.right(72)\n",
        "    i+=1\n",
        "\n",
        "\n",
        "\n",
        "# for 반복문\n",
        "\n",
        "for _ in range(5):\n",
        "\n",
        "    t.forward(100)\n",
        "    t.right(72)\n",
        "\n",
        "\n",
        "turtle.exitonclick()\n",
        "\n",
        "\n"
      ],
      "metadata": {
        "id": "-WxHf8s50LNf"
      },
      "execution_count": null,
      "outputs": []
    },
    {
      "cell_type": "markdown",
      "source": [
        "### 반복문을 사용해 1부터 1000까지의 자연수 중 3의 배수의 합을 구해 보자"
      ],
      "metadata": {
        "id": "mtM2yqFC8v1e"
      }
    },
    {
      "cell_type": "code",
      "source": [
        "# for 반복문\n",
        "# s=0\n",
        "# for i in range(1,1001):\n",
        "#     if i%3==0:\n",
        "#         s=s+i\n",
        "# print(f'1부터 1000까지 3의 배수의 합은 {s}입니다.')\n",
        "\n",
        "# for 반복문\n",
        "# 리스트 컴프리헨션을 이용한 코드\n",
        "\n",
        "# del sum\n",
        "\n",
        "s= sum([i for i in range(1, 1001) if i % 3 == 0])\n",
        "print(f'1부터 1000까지 3의 배수의 합은 {s}입니다.')\n",
        "\n",
        "\n",
        "#print('*'*30)\n",
        "# while 반복문\n",
        "# s=0\n",
        "# i=1\n",
        "# while i<1001:\n",
        "#     if i%3==0:\n",
        "#         s=s+i\n",
        "#     i=i+1\n",
        "# print(f'1부터 1000까지 3의 배수의 합은 {s}입니다.')\n",
        "\n",
        "# while 반복문\n",
        "# 리스트 컴프리헨션을 이용한 코드\n",
        "\n",
        "s = 0\n",
        "i = 1\n",
        "result_list = []\n",
        "\n",
        "while i < 1001:\n",
        "    if i % 3 == 0:\n",
        "        result_list.append(i)\n",
        "    i += 1\n",
        "345\n",
        "s = sum(result_list)\n",
        "print(f'1부터 1000까지 3의 배수의 합은 {s}입니다.')\n"
      ],
      "metadata": {
        "colab": {
          "base_uri": "https://localhost:8080/"
        },
        "id": "oM2nDM9s83Xk",
        "outputId": "eb773f57-a410-4f49-d062-8598f3aeaa5c"
      },
      "execution_count": 15,
      "outputs": [
        {
          "output_type": "stream",
          "name": "stdout",
          "text": [
            "1부터 1000까지 3의 배수의 합은 166833입니다.\n",
            "1부터 1000까지 3의 배수의 합은 166833입니다.\n"
          ]
        }
      ]
    },
    {
      "cell_type": "code",
      "source": [
        "print('\\u2605')"
      ],
      "metadata": {
        "colab": {
          "base_uri": "https://localhost:8080/"
        },
        "id": "IOyvRL4XpuZx",
        "outputId": "3a0fd386-8857-4237-e0ee-76943d580f6a"
      },
      "execution_count": 1,
      "outputs": [
        {
          "output_type": "stream",
          "name": "stdout",
          "text": [
            "★\n"
          ]
        }
      ]
    },
    {
      "cell_type": "markdown",
      "source": [
        "### 사용자가 숫자를 입력하면 별 모양을 입력한 숫자의 두 배만큼 출력하는 프로그램을 만드세요. 예를 들어 5915를 입력하면 각 행에 10,18,2,10개의 별을 출력해 보세요."
      ],
      "metadata": {
        "id": "gGmzxvbep1G_"
      }
    },
    {
      "cell_type": "code",
      "source": [
        "num=list((input('숫자를 여러개 입력하세요 : ')))\n",
        "# print(num)\n",
        "\n",
        "for i in num:\n",
        "    print('\\u2605'*int(i)*2)"
      ],
      "metadata": {
        "colab": {
          "base_uri": "https://localhost:8080/"
        },
        "id": "_VA_2YC3qEZ0",
        "outputId": "65e5a1c4-58ec-497e-aff2-30e58c100544"
      },
      "execution_count": 18,
      "outputs": [
        {
          "output_type": "stream",
          "name": "stdout",
          "text": [
            "숫자를 여러개 입력하세요 : 123\n",
            "★★\n",
            "★★★★\n",
            "★★★★★★\n"
          ]
        }
      ]
    }
  ]
}