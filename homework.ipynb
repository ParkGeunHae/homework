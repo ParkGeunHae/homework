{
  "nbformat": 4,
  "nbformat_minor": 0,
  "metadata": {
    "colab": {
      "provenance": [],
      "authorship_tag": "ABX9TyMgvp5OFA0pumuT3dq3fz6+",
      "include_colab_link": true
    },
    "kernelspec": {
      "name": "python3",
      "display_name": "Python 3"
    },
    "language_info": {
      "name": "python"
    }
  },
  "cells": [
    {
      "cell_type": "markdown",
      "metadata": {
        "id": "view-in-github",
        "colab_type": "text"
      },
      "source": [
        "<a href=\"https://colab.research.google.com/github/ParkGeunHae/homework/blob/main/homework.ipynb\" target=\"_parent\"><img src=\"https://colab.research.google.com/assets/colab-badge.svg\" alt=\"Open In Colab\"/></a>"
      ]
    },
    {
      "cell_type": "markdown",
      "source": [
        "### 반복문을 이용하여 퀴즈를 맞히는 프로그램 정답은 키보드로 입력합니다"
      ],
      "metadata": {
        "id": "L3x2nJ6Kv9Em"
      }
    },
    {
      "cell_type": "code",
      "execution_count": 1,
      "metadata": {
        "colab": {
          "base_uri": "https://localhost:8080/"
        },
        "id": "_4TA9rqOv1ka",
        "outputId": "95cb91d9-b4f4-447a-c612-7036a01d21a8"
      },
      "outputs": [
        {
          "output_type": "stream",
          "name": "stdout",
          "text": [
            "프로그램을 작성할 때 일정한 구간의 명령을 반복해서 실행하도록 구성한 구성한 구문을 무었이라 하는가?\n",
            "정답을 입력하세요:반복문\n",
            "끝!\n"
          ]
        }
      ],
      "source": [
        "while True:\n",
        "    print('프로그램을 작성할 때 일정한 구간의 명령을 반복해서 실행하도록 구성한 구성한 구문을 무었이라 하는가?')\n",
        "\n",
        "    answer=input('정답을 입력하세요:')\n",
        "\n",
        "    if(answer=='반복문'):\n",
        "        break\n",
        "\n",
        "print('끝!')\n"
      ]
    },
    {
      "cell_type": "markdown",
      "source": [
        "### 1000만원을 년 이자율 7%로 저금했을 경우 2000만원이 되는 데 몇 년이 걸리는지 계산하는 프로그램을 만들어 보세요"
      ],
      "metadata": {
        "id": "13GVm2s9wMdD"
      }
    },
    {
      "cell_type": "code",
      "source": [
        "target=0\n",
        "year=1\n",
        "\n",
        "while target<=20000000:\n",
        "\n",
        "    target=10000000+10000000*0.07*year\n",
        "    year+=1\n",
        "\n",
        "\n",
        "print(f'1000만원이 2000만원이 되기 위해 {year-1}년이 걸립니다.')"
      ],
      "metadata": {
        "colab": {
          "base_uri": "https://localhost:8080/"
        },
        "id": "jA6ni_k6wTAY",
        "outputId": "ddc25237-c866-4bfa-cfa4-d56aa72b49e7"
      },
      "execution_count": 5,
      "outputs": [
        {
          "output_type": "stream",
          "name": "stdout",
          "text": [
            "1000만원이 2000만원이 되기 위해 15년이 걸립니다.\n"
          ]
        }
      ]
    },
    {
      "cell_type": "markdown",
      "source": [
        "### Turtle 이용해서 정오각형을 그리기 -> while & for 반복문으로 변환하기"
      ],
      "metadata": {
        "id": "l5Ipwkrsz_jP"
      }
    },
    {
      "cell_type": "code",
      "source": [
        "import turtle\n",
        "t=turtle.Turtle()\n",
        "t.shape('turtle')\n",
        "\n",
        "# while 반복문\n",
        "\n",
        "i=0\n",
        "while(i<5):\n",
        "\n",
        "    t.forward(100)\n",
        "    t.right(72)\n",
        "    i+=1\n",
        "\n",
        "\n",
        "\n",
        "# for 반복문\n",
        "\n",
        "for _ in range(5):\n",
        "\n",
        "    t.forward(100)\n",
        "    t.right(72)\n",
        "\n",
        "\n",
        "turtle.exitonclick()\n",
        "\n",
        "\n"
      ],
      "metadata": {
        "id": "-WxHf8s50LNf"
      },
      "execution_count": null,
      "outputs": []
    },
    {
      "cell_type": "markdown",
      "source": [
        "### 반복문을 사용해 1부터 1000까지의 자연수 중 3의 배수의 합을 구해 보자"
      ],
      "metadata": {
        "id": "mtM2yqFC8v1e"
      }
    },
    {
      "cell_type": "code",
      "source": [
        "# for 반복문\n",
        "# s=0\n",
        "# for i in range(1,1001):\n",
        "#     if i%3==0:\n",
        "#         s=s+i\n",
        "# print(f'1부터 1000까지 3의 배수의 합은 {s}입니다.')\n",
        "\n",
        "# for 반복문\n",
        "# 리스트 컴프리헨션을 이용한 코드\n",
        "\n",
        "# del sum\n",
        "\n",
        "s= sum([i for i in range(1, 1001) if i % 3 == 0])\n",
        "print(f'1부터 1000까지 3의 배수의 합은 {s}입니다.')\n",
        "\n",
        "\n",
        "#print('*'*30)\n",
        "# while 반복문\n",
        "# s=0\n",
        "# i=1\n",
        "# while i<1001:\n",
        "#     if i%3==0:\n",
        "#         s=s+i\n",
        "#     i=i+1\n",
        "# print(f'1부터 1000까지 3의 배수의 합은 {s}입니다.')\n",
        "\n",
        "# while 반복문\n",
        "# 리스트 컴프리헨션을 이용한 코드\n",
        "\n",
        "s = 0\n",
        "i = 1\n",
        "result_list = []\n",
        "\n",
        "while i < 1001:\n",
        "    if i % 3 == 0:\n",
        "        result_list.append(i)\n",
        "    i += 1\n",
        "345\n",
        "s = sum(result_list)\n",
        "print(f'1부터 1000까지 3의 배수의 합은 {s}입니다.')\n"
      ],
      "metadata": {
        "colab": {
          "base_uri": "https://localhost:8080/"
        },
        "id": "oM2nDM9s83Xk",
        "outputId": "eb773f57-a410-4f49-d062-8598f3aeaa5c"
      },
      "execution_count": 15,
      "outputs": [
        {
          "output_type": "stream",
          "name": "stdout",
          "text": [
            "1부터 1000까지 3의 배수의 합은 166833입니다.\n",
            "1부터 1000까지 3의 배수의 합은 166833입니다.\n"
          ]
        }
      ]
    },
    {
      "cell_type": "code",
      "source": [
        "print('\\u2605')"
      ],
      "metadata": {
        "colab": {
          "base_uri": "https://localhost:8080/"
        },
        "id": "IOyvRL4XpuZx",
        "outputId": "3a0fd386-8857-4237-e0ee-76943d580f6a"
      },
      "execution_count": 1,
      "outputs": [
        {
          "output_type": "stream",
          "name": "stdout",
          "text": [
            "★\n"
          ]
        }
      ]
    },
    {
      "cell_type": "markdown",
      "source": [
        "### 사용자가 숫자를 입력하면 별 모양을 입력한 숫자의 두 배만큼 출력하는 프로그램을 만드세요. 예를 들어 5915를 입력하면 각 행에 10,18,2,10개의 별을 출력해 보세요."
      ],
      "metadata": {
        "id": "gGmzxvbep1G_"
      }
    },
    {
      "cell_type": "code",
      "source": [
        "num=list((input('숫자를 여러개 입력하세요 : ')))\n",
        "# print(num)\n",
        "\n",
        "for i in num:\n",
        "    print('\\u2605'*int(i)*2)"
      ],
      "metadata": {
        "colab": {
          "base_uri": "https://localhost:8080/"
        },
        "id": "_VA_2YC3qEZ0",
        "outputId": "65e5a1c4-58ec-497e-aff2-30e58c100544"
      },
      "execution_count": 18,
      "outputs": [
        {
          "output_type": "stream",
          "name": "stdout",
          "text": [
            "숫자를 여러개 입력하세요 : 123\n",
            "★★\n",
            "★★★★\n",
            "★★★★★★\n"
          ]
        }
      ]
    },
    {
      "cell_type": "markdown",
      "source": [
        "### 아래와 같이 구구단을 출력해 보세요."
      ],
      "metadata": {
        "id": "tXWoBIoDx7za"
      }
    },
    {
      "cell_type": "code",
      "source": [
        "# 방법1: 세로출력\n",
        "for i in range(2,10):\n",
        "    print(f'----{i}단----')\n",
        "    for j in range(1,10):\n",
        "         print(f'{i}*{j}={i*j}')\n",
        "\n",
        "print('*'*30)\n",
        "\n",
        "\n",
        "# 방법2: 가로출력\n",
        "\n",
        "# 단의 제목 출력\n",
        "for i in range(2, 10):\n",
        "    print(f'-{i}단--', end=' ')\n",
        "print()\n",
        "\n",
        "# 구구단 출력\n",
        "for i in range(1, 10):\n",
        "    for j in range(2, 10):\n",
        "        print(f'{j}x{i}={i*j:2}', end=' ')\n",
        "    print()\n"
      ],
      "metadata": {
        "colab": {
          "base_uri": "https://localhost:8080/"
        },
        "id": "s3LbXyI1x_WK",
        "outputId": "b84b50b1-e645-4518-eade-0a245c90095e"
      },
      "execution_count": 33,
      "outputs": [
        {
          "output_type": "stream",
          "name": "stdout",
          "text": [
            "----2단----\n",
            "2*1=2\n",
            "2*2=4\n",
            "2*3=6\n",
            "2*4=8\n",
            "2*5=10\n",
            "2*6=12\n",
            "2*7=14\n",
            "2*8=16\n",
            "2*9=18\n",
            "----3단----\n",
            "3*1=3\n",
            "3*2=6\n",
            "3*3=9\n",
            "3*4=12\n",
            "3*5=15\n",
            "3*6=18\n",
            "3*7=21\n",
            "3*8=24\n",
            "3*9=27\n",
            "----4단----\n",
            "4*1=4\n",
            "4*2=8\n",
            "4*3=12\n",
            "4*4=16\n",
            "4*5=20\n",
            "4*6=24\n",
            "4*7=28\n",
            "4*8=32\n",
            "4*9=36\n",
            "----5단----\n",
            "5*1=5\n",
            "5*2=10\n",
            "5*3=15\n",
            "5*4=20\n",
            "5*5=25\n",
            "5*6=30\n",
            "5*7=35\n",
            "5*8=40\n",
            "5*9=45\n",
            "----6단----\n",
            "6*1=6\n",
            "6*2=12\n",
            "6*3=18\n",
            "6*4=24\n",
            "6*5=30\n",
            "6*6=36\n",
            "6*7=42\n",
            "6*8=48\n",
            "6*9=54\n",
            "----7단----\n",
            "7*1=7\n",
            "7*2=14\n",
            "7*3=21\n",
            "7*4=28\n",
            "7*5=35\n",
            "7*6=42\n",
            "7*7=49\n",
            "7*8=56\n",
            "7*9=63\n",
            "----8단----\n",
            "8*1=8\n",
            "8*2=16\n",
            "8*3=24\n",
            "8*4=32\n",
            "8*5=40\n",
            "8*6=48\n",
            "8*7=56\n",
            "8*8=64\n",
            "8*9=72\n",
            "----9단----\n",
            "9*1=9\n",
            "9*2=18\n",
            "9*3=27\n",
            "9*4=36\n",
            "9*5=45\n",
            "9*6=54\n",
            "9*7=63\n",
            "9*8=72\n",
            "9*9=81\n",
            "******************************\n",
            "-2단-- -3단-- -4단-- -5단-- -6단-- -7단-- -8단-- -9단-- \n",
            "2x1= 2 3x1= 3 4x1= 4 5x1= 5 6x1= 6 7x1= 7 8x1= 8 9x1= 9 \n",
            "2x2= 4 3x2= 6 4x2= 8 5x2=10 6x2=12 7x2=14 8x2=16 9x2=18 \n",
            "2x3= 6 3x3= 9 4x3=12 5x3=15 6x3=18 7x3=21 8x3=24 9x3=27 \n",
            "2x4= 8 3x4=12 4x4=16 5x4=20 6x4=24 7x4=28 8x4=32 9x4=36 \n",
            "2x5=10 3x5=15 4x5=20 5x5=25 6x5=30 7x5=35 8x5=40 9x5=45 \n",
            "2x6=12 3x6=18 4x6=24 5x6=30 6x6=36 7x6=42 8x6=48 9x6=54 \n",
            "2x7=14 3x7=21 4x7=28 5x7=35 6x7=42 7x7=49 8x7=56 9x7=63 \n",
            "2x8=16 3x8=24 4x8=32 5x8=40 6x8=48 7x8=56 8x8=64 9x8=72 \n",
            "2x9=18 3x9=27 4x9=36 5x9=45 6x9=54 7x9=63 8x9=72 9x9=81 \n"
          ]
        }
      ]
    },
    {
      "cell_type": "markdown",
      "source": [
        "### 공을 일정 높이에서 떨어뜨리면, 원래 높이의 1/2만큼 튀어 오릅니다. 이를 반복하다가 높이가 0.00001m보다 낮으면 튀어 오르지 않습니다. while문을 이용하여 공이 튀어 오르는 총 횟수를 구하는 프로그램을 만들어 보세요."
      ],
      "metadata": {
        "id": "DTiGS3Z36Pxo"
      }
    },
    {
      "cell_type": "code",
      "source": [
        "length=int(input('공의 높이를 입력하세요(meter) : '))\n",
        "initial_height = length  # 초기 높이 저장\n",
        "up=0\n",
        "\n",
        "while True:\n",
        "    length=length*1/2\n",
        "    up+=1\n",
        "    if length<0.00001:\n",
        "        break\n",
        "print(f'{initial_height} 위치에서 공의 튕긴 횟수는 총 {up}번 입니다.')\n"
      ],
      "metadata": {
        "colab": {
          "base_uri": "https://localhost:8080/"
        },
        "id": "LmM8vrlE6Vj4",
        "outputId": "3d5c4e9c-60de-4eaa-a107-b4c7d41e1e6d"
      },
      "execution_count": 36,
      "outputs": [
        {
          "output_type": "stream",
          "name": "stdout",
          "text": [
            "공의 높이를 입력하세요(meter) : 30\n",
            "30 위치에서 공의 튕긴 횟수는 총 22번 입니다.\n"
          ]
        }
      ]
    }
  ]
}