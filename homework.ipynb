{
  "nbformat": 4,
  "nbformat_minor": 0,
  "metadata": {
    "colab": {
      "provenance": [],
      "authorship_tag": "ABX9TyPci3iyaMdYaVej769cecA1",
      "include_colab_link": true
    },
    "kernelspec": {
      "name": "python3",
      "display_name": "Python 3"
    },
    "language_info": {
      "name": "python"
    }
  },
  "cells": [
    {
      "cell_type": "markdown",
      "metadata": {
        "id": "view-in-github",
        "colab_type": "text"
      },
      "source": [
        "<a href=\"https://colab.research.google.com/github/ParkGeunHae/homework/blob/main/homework.ipynb\" target=\"_parent\"><img src=\"https://colab.research.google.com/assets/colab-badge.svg\" alt=\"Open In Colab\"/></a>"
      ]
    },
    {
      "cell_type": "markdown",
      "source": [
        "### 반복문을 이용하여 퀴즈를 맞히는 프로그램 정답은 키보드로 입력합니다"
      ],
      "metadata": {
        "id": "L3x2nJ6Kv9Em"
      }
    },
    {
      "cell_type": "code",
      "execution_count": null,
      "metadata": {
        "colab": {
          "base_uri": "https://localhost:8080/"
        },
        "id": "_4TA9rqOv1ka",
        "outputId": "95cb91d9-b4f4-447a-c612-7036a01d21a8"
      },
      "outputs": [
        {
          "output_type": "stream",
          "name": "stdout",
          "text": [
            "프로그램을 작성할 때 일정한 구간의 명령을 반복해서 실행하도록 구성한 구성한 구문을 무었이라 하는가?\n",
            "정답을 입력하세요:반복문\n",
            "끝!\n"
          ]
        }
      ],
      "source": [
        "while True:\n",
        "    print('프로그램을 작성할 때 일정한 구간의 명령을 반복해서 실행하도록 구성한 구성한 구문을 무었이라 하는가?')\n",
        "\n",
        "    answer=input('정답을 입력하세요:')\n",
        "\n",
        "    if(answer=='반복문'):\n",
        "        break\n",
        "\n",
        "print('끝!')\n"
      ]
    },
    {
      "cell_type": "markdown",
      "source": [
        "### 1000만원을 년 이자율 7%로 저금했을 경우 2000만원이 되는 데 몇 년이 걸리는지 계산하는 프로그램을 만들어 보세요"
      ],
      "metadata": {
        "id": "13GVm2s9wMdD"
      }
    },
    {
      "cell_type": "code",
      "source": [
        "target=0\n",
        "year=1\n",
        "\n",
        "while target<=20000000:\n",
        "\n",
        "    target=10000000+10000000*0.07*year\n",
        "    year+=1\n",
        "\n",
        "\n",
        "print(f'1000만원이 2000만원이 되기 위해 {year-1}년이 걸립니다.')"
      ],
      "metadata": {
        "colab": {
          "base_uri": "https://localhost:8080/"
        },
        "id": "jA6ni_k6wTAY",
        "outputId": "ddc25237-c866-4bfa-cfa4-d56aa72b49e7"
      },
      "execution_count": null,
      "outputs": [
        {
          "output_type": "stream",
          "name": "stdout",
          "text": [
            "1000만원이 2000만원이 되기 위해 15년이 걸립니다.\n"
          ]
        }
      ]
    },
    {
      "cell_type": "markdown",
      "source": [
        "### Turtle 이용해서 정오각형을 그리기 -> while & for 반복문으로 변환하기"
      ],
      "metadata": {
        "id": "l5Ipwkrsz_jP"
      }
    },
    {
      "cell_type": "code",
      "source": [
        "import turtle\n",
        "t=turtle.Turtle()\n",
        "t.shape('turtle')\n",
        "\n",
        "# while 반복문\n",
        "\n",
        "i=0\n",
        "while(i<5):\n",
        "\n",
        "    t.forward(100)\n",
        "    t.right(72)\n",
        "    i+=1\n",
        "\n",
        "\n",
        "\n",
        "# for 반복문\n",
        "\n",
        "for _ in range(5):\n",
        "\n",
        "    t.forward(100)\n",
        "    t.right(72)\n",
        "\n",
        "\n",
        "turtle.exitonclick()\n",
        "\n",
        "\n"
      ],
      "metadata": {
        "id": "-WxHf8s50LNf"
      },
      "execution_count": null,
      "outputs": []
    },
    {
      "cell_type": "markdown",
      "source": [
        "### 반복문을 사용해 1부터 1000까지의 자연수 중 3의 배수의 합을 구해 보자"
      ],
      "metadata": {
        "id": "mtM2yqFC8v1e"
      }
    },
    {
      "cell_type": "code",
      "source": [
        "# for 반복문\n",
        "# s=0\n",
        "# for i in range(1,1001):\n",
        "#     if i%3==0:\n",
        "#         s=s+i\n",
        "# print(f'1부터 1000까지 3의 배수의 합은 {s}입니다.')\n",
        "\n",
        "# for 반복문\n",
        "# 리스트 컴프리헨션을 이용한 코드\n",
        "\n",
        "# del sum\n",
        "\n",
        "s= sum([i for i in range(1, 1001) if i % 3 == 0])\n",
        "print(f'1부터 1000까지 3의 배수의 합은 {s}입니다.')\n",
        "\n",
        "\n",
        "#print('*'*30)\n",
        "# while 반복문\n",
        "# s=0\n",
        "# i=1\n",
        "# while i<1001:\n",
        "#     if i%3==0:\n",
        "#         s=s+i\n",
        "#     i=i+1\n",
        "# print(f'1부터 1000까지 3의 배수의 합은 {s}입니다.')\n",
        "\n",
        "# while 반복문\n",
        "# 리스트 컴프리헨션을 이용한 코드\n",
        "\n",
        "s = 0\n",
        "i = 1\n",
        "result_list = []\n",
        "\n",
        "while i < 1001:\n",
        "    if i % 3 == 0:\n",
        "        result_list.append(i)\n",
        "    i += 1\n",
        "345\n",
        "s = sum(result_list)\n",
        "print(f'1부터 1000까지 3의 배수의 합은 {s}입니다.')\n"
      ],
      "metadata": {
        "colab": {
          "base_uri": "https://localhost:8080/"
        },
        "id": "oM2nDM9s83Xk",
        "outputId": "eb773f57-a410-4f49-d062-8598f3aeaa5c"
      },
      "execution_count": null,
      "outputs": [
        {
          "output_type": "stream",
          "name": "stdout",
          "text": [
            "1부터 1000까지 3의 배수의 합은 166833입니다.\n",
            "1부터 1000까지 3의 배수의 합은 166833입니다.\n"
          ]
        }
      ]
    },
    {
      "cell_type": "code",
      "source": [
        "print('\\u2605')"
      ],
      "metadata": {
        "colab": {
          "base_uri": "https://localhost:8080/"
        },
        "id": "IOyvRL4XpuZx",
        "outputId": "3a0fd386-8857-4237-e0ee-76943d580f6a"
      },
      "execution_count": null,
      "outputs": [
        {
          "output_type": "stream",
          "name": "stdout",
          "text": [
            "★\n"
          ]
        }
      ]
    },
    {
      "cell_type": "markdown",
      "source": [
        "### 사용자가 숫자를 입력하면 별 모양을 입력한 숫자의 두 배만큼 출력하는 프로그램을 만드세요. 예를 들어 5915를 입력하면 각 행에 10,18,2,10개의 별을 출력해 보세요."
      ],
      "metadata": {
        "id": "gGmzxvbep1G_"
      }
    },
    {
      "cell_type": "code",
      "source": [
        "num=list((input('숫자를 여러개 입력하세요 : ')))\n",
        "# print(num)\n",
        "\n",
        "for i in num:\n",
        "    print('\\u2605'*int(i)*2)"
      ],
      "metadata": {
        "colab": {
          "base_uri": "https://localhost:8080/"
        },
        "id": "_VA_2YC3qEZ0",
        "outputId": "65e5a1c4-58ec-497e-aff2-30e58c100544"
      },
      "execution_count": null,
      "outputs": [
        {
          "output_type": "stream",
          "name": "stdout",
          "text": [
            "숫자를 여러개 입력하세요 : 123\n",
            "★★\n",
            "★★★★\n",
            "★★★★★★\n"
          ]
        }
      ]
    },
    {
      "cell_type": "markdown",
      "source": [
        "### 아래와 같이 구구단을 출력해 보세요."
      ],
      "metadata": {
        "id": "tXWoBIoDx7za"
      }
    },
    {
      "cell_type": "code",
      "source": [
        "# 방법1: 세로출력\n",
        "for i in range(2,10):\n",
        "    print(f'----{i}단----')\n",
        "    for j in range(1,10):\n",
        "         print(f'{i}*{j}={i*j}')\n",
        "\n",
        "print('*'*30)\n",
        "\n",
        "\n",
        "# 방법2: 가로출력\n",
        "\n",
        "# 단의 제목 출력\n",
        "for i in range(2, 10):\n",
        "    print(f'-{i}단--', end=' ')\n",
        "print()\n",
        "\n",
        "# 구구단 출력\n",
        "for i in range(1, 10):\n",
        "    for j in range(2, 10):\n",
        "        print(f'{j}x{i}={i*j:2}', end=' ')\n",
        "    print()\n"
      ],
      "metadata": {
        "colab": {
          "base_uri": "https://localhost:8080/"
        },
        "id": "s3LbXyI1x_WK",
        "outputId": "b84b50b1-e645-4518-eade-0a245c90095e"
      },
      "execution_count": null,
      "outputs": [
        {
          "output_type": "stream",
          "name": "stdout",
          "text": [
            "----2단----\n",
            "2*1=2\n",
            "2*2=4\n",
            "2*3=6\n",
            "2*4=8\n",
            "2*5=10\n",
            "2*6=12\n",
            "2*7=14\n",
            "2*8=16\n",
            "2*9=18\n",
            "----3단----\n",
            "3*1=3\n",
            "3*2=6\n",
            "3*3=9\n",
            "3*4=12\n",
            "3*5=15\n",
            "3*6=18\n",
            "3*7=21\n",
            "3*8=24\n",
            "3*9=27\n",
            "----4단----\n",
            "4*1=4\n",
            "4*2=8\n",
            "4*3=12\n",
            "4*4=16\n",
            "4*5=20\n",
            "4*6=24\n",
            "4*7=28\n",
            "4*8=32\n",
            "4*9=36\n",
            "----5단----\n",
            "5*1=5\n",
            "5*2=10\n",
            "5*3=15\n",
            "5*4=20\n",
            "5*5=25\n",
            "5*6=30\n",
            "5*7=35\n",
            "5*8=40\n",
            "5*9=45\n",
            "----6단----\n",
            "6*1=6\n",
            "6*2=12\n",
            "6*3=18\n",
            "6*4=24\n",
            "6*5=30\n",
            "6*6=36\n",
            "6*7=42\n",
            "6*8=48\n",
            "6*9=54\n",
            "----7단----\n",
            "7*1=7\n",
            "7*2=14\n",
            "7*3=21\n",
            "7*4=28\n",
            "7*5=35\n",
            "7*6=42\n",
            "7*7=49\n",
            "7*8=56\n",
            "7*9=63\n",
            "----8단----\n",
            "8*1=8\n",
            "8*2=16\n",
            "8*3=24\n",
            "8*4=32\n",
            "8*5=40\n",
            "8*6=48\n",
            "8*7=56\n",
            "8*8=64\n",
            "8*9=72\n",
            "----9단----\n",
            "9*1=9\n",
            "9*2=18\n",
            "9*3=27\n",
            "9*4=36\n",
            "9*5=45\n",
            "9*6=54\n",
            "9*7=63\n",
            "9*8=72\n",
            "9*9=81\n",
            "******************************\n",
            "-2단-- -3단-- -4단-- -5단-- -6단-- -7단-- -8단-- -9단-- \n",
            "2x1= 2 3x1= 3 4x1= 4 5x1= 5 6x1= 6 7x1= 7 8x1= 8 9x1= 9 \n",
            "2x2= 4 3x2= 6 4x2= 8 5x2=10 6x2=12 7x2=14 8x2=16 9x2=18 \n",
            "2x3= 6 3x3= 9 4x3=12 5x3=15 6x3=18 7x3=21 8x3=24 9x3=27 \n",
            "2x4= 8 3x4=12 4x4=16 5x4=20 6x4=24 7x4=28 8x4=32 9x4=36 \n",
            "2x5=10 3x5=15 4x5=20 5x5=25 6x5=30 7x5=35 8x5=40 9x5=45 \n",
            "2x6=12 3x6=18 4x6=24 5x6=30 6x6=36 7x6=42 8x6=48 9x6=54 \n",
            "2x7=14 3x7=21 4x7=28 5x7=35 6x7=42 7x7=49 8x7=56 9x7=63 \n",
            "2x8=16 3x8=24 4x8=32 5x8=40 6x8=48 7x8=56 8x8=64 9x8=72 \n",
            "2x9=18 3x9=27 4x9=36 5x9=45 6x9=54 7x9=63 8x9=72 9x9=81 \n"
          ]
        }
      ]
    },
    {
      "cell_type": "markdown",
      "source": [
        "### 공을 일정 높이에서 떨어뜨리면, 원래 높이의 1/2만큼 튀어 오릅니다. 이를 반복하다가 높이가 0.00001m보다 낮으면 튀어 오르지 않습니다. while문을 이용하여 공이 튀어 오르는 총 횟수를 구하는 프로그램을 만들어 보세요."
      ],
      "metadata": {
        "id": "DTiGS3Z36Pxo"
      }
    },
    {
      "cell_type": "code",
      "source": [
        "length=int(input('공의 높이를 입력하세요(meter) : '))\n",
        "initial_height = length  # 초기 높이 저장\n",
        "up=0\n",
        "\n",
        "while True:\n",
        "    length=length*1/2\n",
        "    up+=1\n",
        "    if length<0.00001:\n",
        "        break\n",
        "print(f'{initial_height} 위치에서 공의 튕긴 횟수는 총 {up}번 입니다.')\n"
      ],
      "metadata": {
        "colab": {
          "base_uri": "https://localhost:8080/"
        },
        "id": "LmM8vrlE6Vj4",
        "outputId": "3d5c4e9c-60de-4eaa-a107-b4c7d41e1e6d"
      },
      "execution_count": null,
      "outputs": [
        {
          "output_type": "stream",
          "name": "stdout",
          "text": [
            "공의 높이를 입력하세요(meter) : 30\n",
            "30 위치에서 공의 튕긴 횟수는 총 22번 입니다.\n"
          ]
        }
      ]
    },
    {
      "cell_type": "markdown",
      "source": [
        "### 도둑잡기 게임 만들기"
      ],
      "metadata": {
        "id": "6XGxETs_9vQR"
      }
    },
    {
      "cell_type": "code",
      "source": [
        "import random\n",
        "\n",
        "while True:\n",
        "\n",
        "    culprit= random.randint(1,3)\n",
        "    print('범인 방은 정해졌습니다.!')\n",
        "    police = int(input('방 번호 1/2/3 중 하나 입력: '))\n",
        "\n",
        "    jumsu=0\n",
        "\n",
        "    if culprit==police:\n",
        "        jumsu=jumsu+100\n",
        "        break\n",
        "    else:\n",
        "        jumsu=jumsu-10\n",
        "        print(f'범인을 찾지 못했다:{jumsu}')\n",
        "\n",
        "print(f'\"범인 체포\", 점수:{jumsu}')\n",
        "\n"
      ],
      "metadata": {
        "colab": {
          "base_uri": "https://localhost:8080/"
        },
        "id": "QLmao_FL967R",
        "outputId": "7b833f98-4022-4377-b567-0534b3b51088"
      },
      "execution_count": 11,
      "outputs": [
        {
          "output_type": "stream",
          "name": "stdout",
          "text": [
            "범인 방은 정해졌습니다.!\n",
            "방 번호 1/2/3 중 하나 입력: 1\n",
            "범인을 찾지 못했다:-10\n",
            "범인 방은 정해졌습니다.!\n",
            "방 번호 1/2/3 중 하나 입력: 1\n",
            "범인을 찾지 못했다:-10\n",
            "범인 방은 정해졌습니다.!\n",
            "방 번호 1/2/3 중 하나 입력: 1\n",
            "\"범인 체포\", 점수:100\n"
          ]
        }
      ]
    },
    {
      "cell_type": "markdown",
      "source": [
        "### 커피 자동주문 프로그램 만들기"
      ],
      "metadata": {
        "id": "JuSyS1crDqip"
      }
    },
    {
      "cell_type": "code",
      "source": [
        "menu = '''[커피 주문 머신 메뉴]\n",
        "-----------------------------\n",
        "- 아메리카노: 2500원\n",
        "- 카페라테:   3000원\n",
        "- 카페모카:   3000원\n",
        "-----------------------------\n",
        "원하시는 커피종류와 잔수를 입력하세요.'''\n",
        "print(menu)\n",
        "coffee1 = int(input('아메리카노 몇잔?: '))\n",
        "coffee2 = int(input('카페라테   몇잔?: '))\n",
        "coffee3 = int(input('카페모카   몇잔?: '))\n",
        "\n",
        "total = 2500*coffee1 + 3000*coffee2 + 3000*coffee3\n",
        "print(f\"지불하실 총 금액은 {total:,}원 입니다.\")\n",
        "\n",
        "print('*'*30)\n",
        "\n",
        "print(f'[지불할 금액:{total:,}] :',end=' ')\n",
        "money = int(input('돈을 넣어 주세요: '))\n",
        "\n",
        "\n",
        "change = total-money   # 거스름돈\n",
        "\n",
        "\n",
        "while True:\n",
        "\n",
        "    if total > money:\n",
        "        print(f'[지불할 금액:{change:,}] :', end=' ')\n",
        "        money += int(input('돈을 넣어 주세요: '))\n",
        "\n",
        "        if total < money:\n",
        "             change = total-money\n",
        "             print(f\"거스름돈은 {abs(change):,}입니다.\")\n",
        "             break\n",
        "\n",
        "        if total==money:\n",
        "             break\n",
        "\n",
        "        change = total-money\n",
        "        print(f\"입력한 금액이 부족합니다. {abs(change):,} 원을 더 넣어주세요.\")\n",
        "\n",
        "\n",
        "    else:\n",
        "        print(f\"거스름돈은 {abs(change):,}입니다.\")\n",
        "        break\n",
        "\n",
        "print('*'*30)\n",
        "print(' 커피 맛있게 드세요~~~')"
      ],
      "metadata": {
        "colab": {
          "base_uri": "https://localhost:8080/"
        },
        "id": "LsS93Ku2Dtu_",
        "outputId": "5cafed7e-4e99-498e-ef42-bbf89c4eb556"
      },
      "execution_count": 19,
      "outputs": [
        {
          "output_type": "stream",
          "name": "stdout",
          "text": [
            "[커피 주문 머신 메뉴]\n",
            "-----------------------------\n",
            "- 아메리카노: 2500원\n",
            "- 카페라테:   3000원\n",
            "- 카페모카:   3000원\n",
            "-----------------------------\n",
            "원하시는 커피종류와 잔수를 입력하세요.\n",
            "아메리카노 몇잔?: 2\n",
            "카페라테   몇잔?: 1\n",
            "카페모카   몇잔?: 1\n",
            "지불하실 총 금액은 11,000원 입니다.\n",
            "******************************\n",
            "[지불할 금액:11,000] : 돈을 넣어 주세요: 5000\n",
            "[지불할 금액:6,000] : 돈을 넣어 주세요: 20000\n",
            "거스름돈은 14,000입니다.\n",
            "******************************\n",
            " 커피 맛있게 드세요~~~\n"
          ]
        }
      ]
    },
    {
      "cell_type": "markdown",
      "source": [
        "### 아래 조건을 만족하는 <무인 호텔 관리 프로그램>을 작성해 주새요"
      ],
      "metadata": {
        "id": "gEOymhMVbFJ4"
      }
    },
    {
      "cell_type": "code",
      "source": [
        "room_count = int(input(\"방 개수: \"))\n",
        "rooms = [0] * room_count\n",
        "print(rooms)\n",
        "\n",
        "while True:\n",
        "    print(\"------------------\")\n",
        "    print(\"1. 체크인\")\n",
        "    print(\"2. 체크아웃\")\n",
        "    print(\"3. 현황 보기\")\n",
        "    print(\"0. 종료하기\")\n",
        "    print(\"------------------\")\n",
        "\n",
        "    choice = input(\"--> 선택: \")\n",
        "\n",
        "    if choice == '1':\n",
        "        room_number = int(input(\"체크인 하실 호수: \")) - 1\n",
        "        if rooms[room_number] == 0:\n",
        "            rooms[room_number] = 1\n",
        "            print(\"입실 완료!\")\n",
        "        else:\n",
        "            print(\"입실 중인 방은 체크인 하실 수 없습니다.\")\n",
        "    elif choice == '2':\n",
        "        room_number = int(input(\"체크아웃 하실 호수: \")) - 1\n",
        "        if rooms[room_number] == 1:\n",
        "            rooms[room_number] = 0\n",
        "            print(\"퇴실 완료!\")\n",
        "        else:\n",
        "            print(\"빈 방은 체크아웃 하실 수 없습니다.\")\n",
        "    elif choice == '3':\n",
        "        print(\"---- 객실 현황 ----\")\n",
        "        for i, status in enumerate(rooms, start=1):\n",
        "            print(f\"{i}번 방 - {'입실 중' if status == 1 else '빈 방'}\")\n",
        "        print(\"------------------\")\n",
        "    elif choice == '0':\n",
        "        print(\"프로그램 종료!\")\n",
        "        break\n",
        "    else:\n",
        "        print(\"잘못된 입력입니다. 다시 선택해주세요.\")\n"
      ],
      "metadata": {
        "colab": {
          "base_uri": "https://localhost:8080/"
        },
        "id": "DM_8tPSLbKrW",
        "outputId": "2fd7f80d-31a2-4302-825d-7d8e86160c12"
      },
      "execution_count": 11,
      "outputs": [
        {
          "output_type": "stream",
          "name": "stdout",
          "text": [
            "방 개수: 3\n",
            "[0, 0, 0]\n",
            "------------------\n",
            "1. 체크인\n",
            "2. 체크아웃\n",
            "3. 현황 보기\n",
            "0. 종료하기\n",
            "------------------\n",
            "--> 선택: \n",
            "잘못된 입력입니다. 다시 선택해주세요.\n",
            "------------------\n",
            "1. 체크인\n",
            "2. 체크아웃\n",
            "3. 현황 보기\n",
            "0. 종료하기\n",
            "------------------\n",
            "--> 선택: 1\n",
            "체크인 하실 호수: 1\n",
            "입실 완료!\n",
            "------------------\n",
            "1. 체크인\n",
            "2. 체크아웃\n",
            "3. 현황 보기\n",
            "0. 종료하기\n",
            "------------------\n",
            "--> 선택: 3\n",
            "---- 객실 현황 ----\n",
            "1번 방 - 입실 중\n",
            "2번 방 - 빈 방\n",
            "3번 방 - 빈 방\n",
            "------------------\n",
            "------------------\n",
            "1. 체크인\n",
            "2. 체크아웃\n",
            "3. 현황 보기\n",
            "0. 종료하기\n",
            "------------------\n",
            "--> 선택: 0\n",
            "프로그램 종료!\n"
          ]
        }
      ]
    }
  ]
}